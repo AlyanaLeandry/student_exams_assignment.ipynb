{
  "nbformat": 4,
  "nbformat_minor": 0,
  "metadata": {
    "colab": {
      "name": "student_exams_assignments",
      "provenance": []
    },
    "kernelspec": {
      "name": "python3",
      "display_name": "Python 3"
    },
    "language_info": {
      "name": "python"
    }
  },
  "cells": [
    {
      "cell_type": "markdown",
      "metadata": {
        "id": "P_jkDVkkXTRG"
      },
      "source": [
        "##Introduction\n",
        "\n",
        "To know which factor may affect the student's performance, we classify the score into couple of ranks, and figure out which feature affects the score more significant. The independent variables are follow:\n",
        "\n",
        "1.   gener : sex of students\n",
        "2.   race/ethnicity : ethnicity of students\n",
        "3. parental level of education : parents' final education\n",
        "4. lunch : having lunch before test (normal or abnormal)\n",
        "5. test preparation course : complete or not complete before test \n"
      ]
    },
    {
      "cell_type": "code",
      "metadata": {
        "id": "52i1FWrGXJXT"
      },
      "source": [
        "import seaborn as sns\n",
        "import matplotlib.pyplot as plt\n",
        "import os\n",
        "import pandas as pd\n",
        "import numpy as np\n",
        "from sklearn.preprocessing import LabelEncoder\n",
        "from sklearn.cluster import KMeans"
      ],
      "execution_count": 1,
      "outputs": []
    },
    {
      "cell_type": "markdown",
      "metadata": {
        "id": "z0WiaUEgX-zu"
      },
      "source": [
        "Let's see how many datasets in this topic"
      ]
    },
    {
      "cell_type": "code",
      "metadata": {
        "colab": {
          "base_uri": "https://localhost:8080/"
        },
        "id": "-g0LRSuyYC66",
        "outputId": "04ca1105-be0e-4512-de94-85e7588cd7a9"
      },
      "source": [
        "os.listdir(\".\")"
      ],
      "execution_count": 2,
      "outputs": [
        {
          "output_type": "execute_result",
          "data": {
            "text/plain": [
              "['.config', 'exam_results.csv', 'sample_data']"
            ]
          },
          "metadata": {},
          "execution_count": 2
        }
      ]
    },
    {
      "cell_type": "code",
      "metadata": {
        "colab": {
          "base_uri": "https://localhost:8080/",
          "height": 204
        },
        "id": "MCSPNuJQYSLf",
        "outputId": "452414db-622d-4770-a51c-c1b9cfa4dd9a"
      },
      "source": [
        "filename = \"exam_results.csv\"\n",
        "score_df = pd.read_csv(filename)\n",
        "score_df.head()"
      ],
      "execution_count": 3,
      "outputs": [
        {
          "output_type": "execute_result",
          "data": {
            "text/html": [
              "<div>\n",
              "<style scoped>\n",
              "    .dataframe tbody tr th:only-of-type {\n",
              "        vertical-align: middle;\n",
              "    }\n",
              "\n",
              "    .dataframe tbody tr th {\n",
              "        vertical-align: top;\n",
              "    }\n",
              "\n",
              "    .dataframe thead th {\n",
              "        text-align: right;\n",
              "    }\n",
              "</style>\n",
              "<table border=\"1\" class=\"dataframe\">\n",
              "  <thead>\n",
              "    <tr style=\"text-align: right;\">\n",
              "      <th></th>\n",
              "      <th>gender</th>\n",
              "      <th>race/ethnicity</th>\n",
              "      <th>parental level of education</th>\n",
              "      <th>lunch</th>\n",
              "      <th>test preparation course</th>\n",
              "      <th>math score</th>\n",
              "      <th>reading score</th>\n",
              "      <th>writing score</th>\n",
              "    </tr>\n",
              "  </thead>\n",
              "  <tbody>\n",
              "    <tr>\n",
              "      <th>0</th>\n",
              "      <td>female</td>\n",
              "      <td>group B</td>\n",
              "      <td>bachelor's degree</td>\n",
              "      <td>standard</td>\n",
              "      <td>none</td>\n",
              "      <td>72</td>\n",
              "      <td>72</td>\n",
              "      <td>74</td>\n",
              "    </tr>\n",
              "    <tr>\n",
              "      <th>1</th>\n",
              "      <td>female</td>\n",
              "      <td>group C</td>\n",
              "      <td>some college</td>\n",
              "      <td>standard</td>\n",
              "      <td>completed</td>\n",
              "      <td>69</td>\n",
              "      <td>90</td>\n",
              "      <td>88</td>\n",
              "    </tr>\n",
              "    <tr>\n",
              "      <th>2</th>\n",
              "      <td>female</td>\n",
              "      <td>group B</td>\n",
              "      <td>master's degree</td>\n",
              "      <td>standard</td>\n",
              "      <td>none</td>\n",
              "      <td>90</td>\n",
              "      <td>95</td>\n",
              "      <td>93</td>\n",
              "    </tr>\n",
              "    <tr>\n",
              "      <th>3</th>\n",
              "      <td>male</td>\n",
              "      <td>group A</td>\n",
              "      <td>associate's degree</td>\n",
              "      <td>free/reduced</td>\n",
              "      <td>none</td>\n",
              "      <td>47</td>\n",
              "      <td>57</td>\n",
              "      <td>44</td>\n",
              "    </tr>\n",
              "    <tr>\n",
              "      <th>4</th>\n",
              "      <td>male</td>\n",
              "      <td>group C</td>\n",
              "      <td>some college</td>\n",
              "      <td>standard</td>\n",
              "      <td>none</td>\n",
              "      <td>76</td>\n",
              "      <td>78</td>\n",
              "      <td>75</td>\n",
              "    </tr>\n",
              "  </tbody>\n",
              "</table>\n",
              "</div>"
            ],
            "text/plain": [
              "   gender race/ethnicity  ... reading score writing score\n",
              "0  female        group B  ...            72            74\n",
              "1  female        group C  ...            90            88\n",
              "2  female        group B  ...            95            93\n",
              "3    male        group A  ...            57            44\n",
              "4    male        group C  ...            78            75\n",
              "\n",
              "[5 rows x 8 columns]"
            ]
          },
          "metadata": {},
          "execution_count": 3
        }
      ]
    },
    {
      "cell_type": "markdown",
      "metadata": {
        "id": "uT6jTnQaYhxM"
      },
      "source": [
        "some column names are too long, rename the column names to be simpler"
      ]
    },
    {
      "cell_type": "code",
      "metadata": {
        "colab": {
          "base_uri": "https://localhost:8080/",
          "height": 204
        },
        "id": "2bZwiTtUYk_M",
        "outputId": "c523967a-2653-4086-80c8-ccc43975f304"
      },
      "source": [
        "score_df.rename(columns={\"race/ethnicity\":\"ethnicity\",\"parental level of education\":\"parent_education\"\n",
        "                    ,\"math score\":\"math\",\"reading score\":\"reading\",\"writing score\":\"writing\",\n",
        "                    \"test preparation course\":\"pre\"},inplace=True)\n",
        "score_df.head()"
      ],
      "execution_count": 4,
      "outputs": [
        {
          "output_type": "execute_result",
          "data": {
            "text/html": [
              "<div>\n",
              "<style scoped>\n",
              "    .dataframe tbody tr th:only-of-type {\n",
              "        vertical-align: middle;\n",
              "    }\n",
              "\n",
              "    .dataframe tbody tr th {\n",
              "        vertical-align: top;\n",
              "    }\n",
              "\n",
              "    .dataframe thead th {\n",
              "        text-align: right;\n",
              "    }\n",
              "</style>\n",
              "<table border=\"1\" class=\"dataframe\">\n",
              "  <thead>\n",
              "    <tr style=\"text-align: right;\">\n",
              "      <th></th>\n",
              "      <th>gender</th>\n",
              "      <th>ethnicity</th>\n",
              "      <th>parent_education</th>\n",
              "      <th>lunch</th>\n",
              "      <th>pre</th>\n",
              "      <th>math</th>\n",
              "      <th>reading</th>\n",
              "      <th>writing</th>\n",
              "    </tr>\n",
              "  </thead>\n",
              "  <tbody>\n",
              "    <tr>\n",
              "      <th>0</th>\n",
              "      <td>female</td>\n",
              "      <td>group B</td>\n",
              "      <td>bachelor's degree</td>\n",
              "      <td>standard</td>\n",
              "      <td>none</td>\n",
              "      <td>72</td>\n",
              "      <td>72</td>\n",
              "      <td>74</td>\n",
              "    </tr>\n",
              "    <tr>\n",
              "      <th>1</th>\n",
              "      <td>female</td>\n",
              "      <td>group C</td>\n",
              "      <td>some college</td>\n",
              "      <td>standard</td>\n",
              "      <td>completed</td>\n",
              "      <td>69</td>\n",
              "      <td>90</td>\n",
              "      <td>88</td>\n",
              "    </tr>\n",
              "    <tr>\n",
              "      <th>2</th>\n",
              "      <td>female</td>\n",
              "      <td>group B</td>\n",
              "      <td>master's degree</td>\n",
              "      <td>standard</td>\n",
              "      <td>none</td>\n",
              "      <td>90</td>\n",
              "      <td>95</td>\n",
              "      <td>93</td>\n",
              "    </tr>\n",
              "    <tr>\n",
              "      <th>3</th>\n",
              "      <td>male</td>\n",
              "      <td>group A</td>\n",
              "      <td>associate's degree</td>\n",
              "      <td>free/reduced</td>\n",
              "      <td>none</td>\n",
              "      <td>47</td>\n",
              "      <td>57</td>\n",
              "      <td>44</td>\n",
              "    </tr>\n",
              "    <tr>\n",
              "      <th>4</th>\n",
              "      <td>male</td>\n",
              "      <td>group C</td>\n",
              "      <td>some college</td>\n",
              "      <td>standard</td>\n",
              "      <td>none</td>\n",
              "      <td>76</td>\n",
              "      <td>78</td>\n",
              "      <td>75</td>\n",
              "    </tr>\n",
              "  </tbody>\n",
              "</table>\n",
              "</div>"
            ],
            "text/plain": [
              "   gender ethnicity    parent_education  ... math reading  writing\n",
              "0  female   group B   bachelor's degree  ...   72      72       74\n",
              "1  female   group C        some college  ...   69      90       88\n",
              "2  female   group B     master's degree  ...   90      95       93\n",
              "3    male   group A  associate's degree  ...   47      57       44\n",
              "4    male   group C        some college  ...   76      78       75\n",
              "\n",
              "[5 rows x 8 columns]"
            ]
          },
          "metadata": {},
          "execution_count": 4
        }
      ]
    },
    {
      "cell_type": "markdown",
      "metadata": {
        "id": "ngD5qvFvYonn"
      },
      "source": [
        "seems clearly.  Check the data type"
      ]
    },
    {
      "cell_type": "code",
      "metadata": {
        "colab": {
          "base_uri": "https://localhost:8080/"
        },
        "id": "upiGHsXbYr4A",
        "outputId": "1f709ca6-f969-4322-c07f-9c1398f74522"
      },
      "source": [
        "score_df.dtypes"
      ],
      "execution_count": 5,
      "outputs": [
        {
          "output_type": "execute_result",
          "data": {
            "text/plain": [
              "gender              object\n",
              "ethnicity           object\n",
              "parent_education    object\n",
              "lunch               object\n",
              "pre                 object\n",
              "math                 int64\n",
              "reading              int64\n",
              "writing              int64\n",
              "dtype: object"
            ]
          },
          "metadata": {},
          "execution_count": 5
        }
      ]
    },
    {
      "cell_type": "code",
      "metadata": {
        "colab": {
          "base_uri": "https://localhost:8080/"
        },
        "id": "DeyWP9Qyhg6i",
        "outputId": "b443b63d-d1e1-4663-ad98-892a44732399"
      },
      "source": [
        "score_df.groupby(\"gender\")[list(score_df.columns[-3:])[0]].mean()"
      ],
      "execution_count": 11,
      "outputs": [
        {
          "output_type": "execute_result",
          "data": {
            "text/plain": [
              "gender\n",
              "female    63.633205\n",
              "male      68.728216\n",
              "Name: math, dtype: float64"
            ]
          },
          "metadata": {},
          "execution_count": 11
        }
      ]
    },
    {
      "cell_type": "code",
      "metadata": {
        "colab": {
          "base_uri": "https://localhost:8080/"
        },
        "id": "MFmnrYA3ksJz",
        "outputId": "92b06795-3de9-4b4d-8b88-f307f513cce3"
      },
      "source": [
        "score_df.groupby(\"gender\")[list(score_df.columns[-3:])[1]].mean()"
      ],
      "execution_count": 12,
      "outputs": [
        {
          "output_type": "execute_result",
          "data": {
            "text/plain": [
              "gender\n",
              "female    72.608108\n",
              "male      65.473029\n",
              "Name: reading, dtype: float64"
            ]
          },
          "metadata": {},
          "execution_count": 12
        }
      ]
    },
    {
      "cell_type": "code",
      "metadata": {
        "colab": {
          "base_uri": "https://localhost:8080/"
        },
        "id": "mHw-NXwdk0df",
        "outputId": "03a0a49b-47df-4e32-d5b6-29bbcb78647c"
      },
      "source": [
        "score_df.groupby(\"gender\")[list(score_df.columns[-3:])[2]].mean()"
      ],
      "execution_count": 13,
      "outputs": [
        {
          "output_type": "execute_result",
          "data": {
            "text/plain": [
              "gender\n",
              "female    72.467181\n",
              "male      63.311203\n",
              "Name: writing, dtype: float64"
            ]
          },
          "metadata": {},
          "execution_count": 13
        }
      ]
    },
    {
      "cell_type": "code",
      "metadata": {
        "colab": {
          "base_uri": "https://localhost:8080/"
        },
        "id": "3zGSE_QinXT9",
        "outputId": "6265fe7b-6f6d-46bc-e922-065ff3b907ef"
      },
      "source": [
        "score_df.groupby(\"lunch\")[list(score_df.columns[-3:])[0]].mean()"
      ],
      "execution_count": 21,
      "outputs": [
        {
          "output_type": "execute_result",
          "data": {
            "text/plain": [
              "lunch\n",
              "free/reduced    58.921127\n",
              "standard        70.034109\n",
              "Name: math, dtype: float64"
            ]
          },
          "metadata": {},
          "execution_count": 21
        }
      ]
    },
    {
      "cell_type": "code",
      "metadata": {
        "colab": {
          "base_uri": "https://localhost:8080/"
        },
        "id": "9Gd3ylo3nf8I",
        "outputId": "ea8a4377-16ca-4296-f25d-9ead492c54b6"
      },
      "source": [
        "score_df.groupby(\"lunch\")[list(score_df.columns[-3:])[1]].mean()"
      ],
      "execution_count": 22,
      "outputs": [
        {
          "output_type": "execute_result",
          "data": {
            "text/plain": [
              "lunch\n",
              "free/reduced    64.653521\n",
              "standard        71.654264\n",
              "Name: reading, dtype: float64"
            ]
          },
          "metadata": {},
          "execution_count": 22
        }
      ]
    },
    {
      "cell_type": "code",
      "metadata": {
        "colab": {
          "base_uri": "https://localhost:8080/"
        },
        "id": "cNqCie7snj1o",
        "outputId": "ead44cbf-22b5-4b09-c97b-3365f83d5ae8"
      },
      "source": [
        "score_df.groupby(\"lunch\")[list(score_df.columns[-3:])[2]].mean()"
      ],
      "execution_count": 23,
      "outputs": [
        {
          "output_type": "execute_result",
          "data": {
            "text/plain": [
              "lunch\n",
              "free/reduced    63.022535\n",
              "standard        70.823256\n",
              "Name: writing, dtype: float64"
            ]
          },
          "metadata": {},
          "execution_count": 23
        }
      ]
    },
    {
      "cell_type": "code",
      "metadata": {
        "colab": {
          "base_uri": "https://localhost:8080/"
        },
        "id": "OsGDq_UsErDR",
        "outputId": "dd90454d-80a2-4df6-9b26-39ec2523b97c"
      },
      "source": [
        "score_df.groupby(\"pre\")[list(score_df.columns[-3:])[0]].mean()"
      ],
      "execution_count": 35,
      "outputs": [
        {
          "output_type": "execute_result",
          "data": {
            "text/plain": [
              "pre\n",
              "completed    69.695531\n",
              "none         64.077882\n",
              "Name: math, dtype: float64"
            ]
          },
          "metadata": {},
          "execution_count": 35
        }
      ]
    },
    {
      "cell_type": "code",
      "metadata": {
        "colab": {
          "base_uri": "https://localhost:8080/"
        },
        "id": "yVEux5voEuCJ",
        "outputId": "2eefbdae-2622-4336-ab7e-1cf3519e10c4"
      },
      "source": [
        "score_df.groupby(\"pre\")[list(score_df.columns[-3:])[1]].mean()"
      ],
      "execution_count": 36,
      "outputs": [
        {
          "output_type": "execute_result",
          "data": {
            "text/plain": [
              "pre\n",
              "completed    73.893855\n",
              "none         66.534268\n",
              "Name: reading, dtype: float64"
            ]
          },
          "metadata": {},
          "execution_count": 36
        }
      ]
    },
    {
      "cell_type": "code",
      "metadata": {
        "colab": {
          "base_uri": "https://localhost:8080/"
        },
        "id": "LC5BGFkGEwYC",
        "outputId": "0bf253c1-63c1-45ce-bf67-cef7d5411be4"
      },
      "source": [
        "score_df.groupby(\"pre\")[list(score_df.columns[-3:])[2]].mean()"
      ],
      "execution_count": 37,
      "outputs": [
        {
          "output_type": "execute_result",
          "data": {
            "text/plain": [
              "pre\n",
              "completed    74.418994\n",
              "none         64.504673\n",
              "Name: writing, dtype: float64"
            ]
          },
          "metadata": {},
          "execution_count": 37
        }
      ]
    },
    {
      "cell_type": "markdown",
      "metadata": {
        "id": "R_iRBisoYwUP"
      },
      "source": [
        "Plotting the average scores per gender. Use a Matplotlib Barplot\n",
        "\n",
        "Plot the average scores per category of \"lunch\" and \"pre\". Use a seaborn boxplot chart."
      ]
    },
    {
      "cell_type": "code",
      "metadata": {
        "colab": {
          "base_uri": "https://localhost:8080/",
          "height": 296
        },
        "id": "flRq7Zs_aAV7",
        "outputId": "1eb7f1b3-07fa-40fa-8a9b-9bb52fe63c77"
      },
      "source": [
        "import numpy as np\n",
        "import matplotlib.pyplot as plt\n",
        "import pandas as pd\n",
        "import seaborn as sns\n",
        "% matplotlib inline\n",
        "\n",
        "# data to plot\n",
        "n_groups = 3\n",
        "women_means = (63.633205, 72.608108,72.467181)\n",
        "men_means = (68.728216, 65.473029, 63.311203)\n",
        "\n",
        "# create plot\n",
        "fig, ax = plt.subplots()\n",
        "index = np.arange(n_groups)\n",
        "bar_width = 0.25\n",
        "opacity = 0.8\n",
        "\n",
        "rects1 = plt.bar(index, men_means, bar_width,\n",
        "alpha=opacity,\n",
        "color='b',\n",
        "label='Men')\n",
        "\n",
        "rects2 = plt.bar(index + bar_width, women_means, bar_width,\n",
        "alpha=opacity,\n",
        "color='g',\n",
        "label='Women')\n",
        "\n",
        "plt.xlabel('Gender')\n",
        "plt.ylabel('Scores')\n",
        "plt.title('Average scores by gender')\n",
        "plt.xticks(index + bar_width, ('Math', 'Reading', 'Writing'))\n",
        "plt.legend()\n",
        "\n",
        "plt.tight_layout()\n",
        "plt.show()"
      ],
      "execution_count": 16,
      "outputs": [
        {
          "output_type": "display_data",
          "data": {
            "image/png": "[encoded data removed]",
            "text/plain": [
              "<Figure size 432x288 with 1 Axes>"
            ]
          },
          "metadata": {
            "needs_background": "light"
          }
        }
      ]
    },
    {
      "cell_type": "code",
      "metadata": {
        "colab": {
          "base_uri": "https://localhost:8080/",
          "height": 336
        },
        "id": "fJWHlN5pmVKj",
        "outputId": "9a4a1463-138c-4f24-a7fe-3a87908d30cd"
      },
      "source": [
        "import numpy as np\n",
        "import matplotlib.pyplot as plt\n",
        "import pandas as pd\n",
        "import seaborn as sns\n",
        "% matplotlib inline\n",
        "\n",
        "free_means = (58.921127,64.653521,63.022535)\n",
        "standard_means = (70.034109, 71.654264, 70.823256)\n",
        "\n",
        "fig, ax = plt.subplots()\n",
        "index = np.arange(n_groups)\n",
        "bar_width = 0.25\n",
        "opacity = 0.8\n",
        "\n",
        "avLU = score_df.groupby(\"lunch\").mean()\n",
        "print(avLU)\n",
        "sns.set_theme(style = \"whitegrid\")\n",
        "ax = sns.boxplot(data = avLU.to_numpy())"
      ],
      "execution_count": 34,
      "outputs": [
        {
          "output_type": "stream",
          "name": "stdout",
          "text": [
            "                   math    reading    writing\n",
            "lunch                                        \n",
            "free/reduced  58.921127  64.653521  63.022535\n",
            "standard      70.034109  71.654264  70.823256\n"
          ]
        },
        {
          "output_type": "display_data",
          "data": {
            "image/png": "[encoded data removed]",
            "text/plain": [
              "<Figure size 432x288 with 1 Axes>"
            ]
          },
          "metadata": {
            "needs_background": "light"
          }
        }
      ]
    },
    {
      "cell_type": "code",
      "metadata": {
        "colab": {
          "base_uri": "https://localhost:8080/",
          "height": 336
        },
        "id": "lL_BKS27qOt2",
        "outputId": "dd9307eb-0420-405e-9347-880bc63006dd"
      },
      "source": [
        "import numpy as np\n",
        "import matplotlib.pyplot as plt\n",
        "import pandas as pd\n",
        "import seaborn as sns\n",
        "% matplotlib inline\n",
        "\n",
        "completed_means = (69.695531,73.893855,74.418994)\n",
        "none_means = (64.0778829, 66.534268, 64.504673)\n",
        "\n",
        "fig, ax = plt.subplots()\n",
        "index = np.arange(n_groups)\n",
        "bar_width = 0.25\n",
        "opacity = 0.8\n",
        "\n",
        "avLU = score_df.groupby(\"pre\").mean()\n",
        "print(avLU)\n",
        "sns.set_theme(style = \"whitegrid\")\n",
        "ax = sns.boxplot(data = avLU.to_numpy())"
      ],
      "execution_count": 45,
      "outputs": [
        {
          "output_type": "stream",
          "name": "stdout",
          "text": [
            "                math    reading    writing\n",
            "pre                                       \n",
            "completed  69.695531  73.893855  74.418994\n",
            "none       64.077882  66.534268  64.504673\n"
          ]
        },
        {
          "output_type": "display_data",
          "data": {
            "image/png": "[encoded data removed]",
            "text/plain": [
              "<Figure size 432x288 with 1 Axes>"
            ]
          },
          "metadata": {
            "needs_background": "light"
          }
        }
      ]
    }
  ]
}